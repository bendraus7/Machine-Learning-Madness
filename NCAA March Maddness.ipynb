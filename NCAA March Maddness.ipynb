{
 "cells": [
  {
   "cell_type": "code",
   "execution_count": 7,
   "metadata": {},
   "outputs": [],
   "source": [
    "import pandas as pd\n",
    "import numpy\n",
    "import math\n",
    "import csv\n",
    "import random\n",
    "#from sklearn import cross_validation, linear_model, model_selection\n",
    "from sklearn.metrics import make_scorer, accuracy_score\n",
    "from sklearn.model_selection import train_test_split, GridSearchCV"
   ]
  },
  {
   "cell_type": "code",
   "execution_count": 8,
   "metadata": {},
   "outputs": [],
   "source": [
    "\n",
    "import pandas as pd\n",
    "import xgboost as xgb\n",
    "import numpy as np\n",
    "import datetime as dt\n",
    "import random\n",
    "from sportsreference.ncaab.teams import Teams\n",
    "from sklearn.preprocessing import scale\n",
    "from sklearn.linear_model import LogisticRegression\n",
    "from sklearn.svm import SVC"
   ]
  },
  {
   "cell_type": "code",
   "execution_count": 34,
   "metadata": {},
   "outputs": [],
   "source": [
    "upsets = pd.read_csv(r\"C:\\Users\\socst\\Documents\\Upsets 1st round.csv\",engine='python')"
   ]
  },
  {
   "cell_type": "code",
   "execution_count": 10,
   "metadata": {},
   "outputs": [],
   "source": [
    "teams = Teams(year = 2018)"
   ]
  },
  {
   "cell_type": "code",
   "execution_count": 11,
   "metadata": {},
   "outputs": [],
   "source": [
    "teams_temp = teams.dataframes\n",
    "filt = teams_temp[teams_temp.abbreviation==\"MARYLAND-BALTIMORE-COUNTY\"]"
   ]
  },
  {
   "cell_type": "code",
   "execution_count": 31,
   "metadata": {},
   "outputs": [],
   "source": [
    "filt = teams_temp[teams_temp.abbreviation==\"MARYLAND-BALTIMORE-COUNTY\"]"
   ]
  },
  {
   "cell_type": "code",
   "execution_count": 32,
   "metadata": {},
   "outputs": [
    {
     "data": {
      "text/html": [
       "<div>\n",
       "<style scoped>\n",
       "    .dataframe tbody tr th:only-of-type {\n",
       "        vertical-align: middle;\n",
       "    }\n",
       "\n",
       "    .dataframe tbody tr th {\n",
       "        vertical-align: top;\n",
       "    }\n",
       "\n",
       "    .dataframe thead th {\n",
       "        text-align: right;\n",
       "    }\n",
       "</style>\n",
       "<table border=\"1\" class=\"dataframe\">\n",
       "  <thead>\n",
       "    <tr style=\"text-align: right;\">\n",
       "      <th></th>\n",
       "      <th>abbreviation</th>\n",
       "      <th>assist_percentage</th>\n",
       "      <th>assists</th>\n",
       "      <th>away_losses</th>\n",
       "      <th>away_wins</th>\n",
       "      <th>block_percentage</th>\n",
       "      <th>blocks</th>\n",
       "      <th>conference</th>\n",
       "      <th>conference_losses</th>\n",
       "      <th>conference_wins</th>\n",
       "      <th>...</th>\n",
       "      <th>total_rebound_percentage</th>\n",
       "      <th>total_rebounds</th>\n",
       "      <th>true_shooting_percentage</th>\n",
       "      <th>turnover_percentage</th>\n",
       "      <th>turnovers</th>\n",
       "      <th>two_point_field_goal_attempts</th>\n",
       "      <th>two_point_field_goal_percentage</th>\n",
       "      <th>two_point_field_goals</th>\n",
       "      <th>win_percentage</th>\n",
       "      <th>wins</th>\n",
       "    </tr>\n",
       "  </thead>\n",
       "  <tbody>\n",
       "    <tr>\n",
       "      <th>MARYLAND-BALTIMORE-COUNTY</th>\n",
       "      <td>MARYLAND-BALTIMORE-COUNTY</td>\n",
       "      <td>59.1</td>\n",
       "      <td>547</td>\n",
       "      <td>7</td>\n",
       "      <td>9</td>\n",
       "      <td>7.3</td>\n",
       "      <td>87</td>\n",
       "      <td>america-east</td>\n",
       "      <td>4</td>\n",
       "      <td>12</td>\n",
       "      <td>...</td>\n",
       "      <td>49.1</td>\n",
       "      <td>1245</td>\n",
       "      <td>0.55</td>\n",
       "      <td>15.5</td>\n",
       "      <td>440</td>\n",
       "      <td>1148</td>\n",
       "      <td>0.49</td>\n",
       "      <td>562</td>\n",
       "      <td>0.694</td>\n",
       "      <td>25</td>\n",
       "    </tr>\n",
       "  </tbody>\n",
       "</table>\n",
       "<p>1 rows × 84 columns</p>\n",
       "</div>"
      ],
      "text/plain": [
       "                                        abbreviation  assist_percentage  \\\n",
       "MARYLAND-BALTIMORE-COUNTY  MARYLAND-BALTIMORE-COUNTY               59.1   \n",
       "\n",
       "                           assists  away_losses  away_wins  block_percentage  \\\n",
       "MARYLAND-BALTIMORE-COUNTY      547            7          9               7.3   \n",
       "\n",
       "                           blocks    conference  conference_losses  \\\n",
       "MARYLAND-BALTIMORE-COUNTY      87  america-east                  4   \n",
       "\n",
       "                           conference_wins  ...   total_rebound_percentage  \\\n",
       "MARYLAND-BALTIMORE-COUNTY               12  ...                       49.1   \n",
       "\n",
       "                           total_rebounds  true_shooting_percentage  \\\n",
       "MARYLAND-BALTIMORE-COUNTY            1245                      0.55   \n",
       "\n",
       "                           turnover_percentage  turnovers  \\\n",
       "MARYLAND-BALTIMORE-COUNTY                 15.5        440   \n",
       "\n",
       "                           two_point_field_goal_attempts  \\\n",
       "MARYLAND-BALTIMORE-COUNTY                           1148   \n",
       "\n",
       "                           two_point_field_goal_percentage  \\\n",
       "MARYLAND-BALTIMORE-COUNTY                             0.49   \n",
       "\n",
       "                           two_point_field_goals  win_percentage  wins  \n",
       "MARYLAND-BALTIMORE-COUNTY                    562           0.694    25  \n",
       "\n",
       "[1 rows x 84 columns]"
      ]
     },
     "execution_count": 32,
     "metadata": {},
     "output_type": "execute_result"
    }
   ],
   "source": [
    "upsets_df = pd.DataFrame()"
   ]
  },
  {
   "cell_type": "code",
   "execution_count": null,
   "metadata": {},
   "outputs": [],
   "source": []
  }
 ],
 "metadata": {
  "kernelspec": {
   "display_name": "Python 3",
   "language": "python",
   "name": "python3"
  },
  "language_info": {
   "codemirror_mode": {
    "name": "ipython",
    "version": 3
   },
   "file_extension": ".py",
   "mimetype": "text/x-python",
   "name": "python",
   "nbconvert_exporter": "python",
   "pygments_lexer": "ipython3",
   "version": "3.7.1"
  }
 },
 "nbformat": 4,
 "nbformat_minor": 2
}

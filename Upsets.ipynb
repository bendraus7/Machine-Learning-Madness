{
 "cells": [
  {
   "cell_type": "code",
   "execution_count": 7,
   "metadata": {},
   "outputs": [],
   "source": [
    "import pandas as pd\n",
    "import numpy\n",
    "import math\n",
    "import csv\n",
    "import random\n",
    "#from sklearn import cross_validation, linear_model, model_selection\n",
    "from sklearn.metrics import make_scorer, accuracy_score\n",
    "from sklearn.model_selection import train_test_split, GridSearchCV"
   ]
  },
  {
   "cell_type": "code",
   "execution_count": 8,
   "metadata": {},
   "outputs": [],
   "source": [
    "\n",
    "import pandas as pd\n",
    "import xgboost as xgb\n",
    "import numpy as np\n",
    "import datetime as dt\n",
    "import random\n",
    "from sportsreference.ncaab.teams import Teams\n",
    "from sklearn.preprocessing import scale\n",
    "from sklearn.linear_model import LogisticRegression\n",
    "from sklearn.svm import SVC"
   ]
  },
  {
   "cell_type": "code",
   "execution_count": 37,
   "metadata": {},
   "outputs": [],
   "source": [
    "upsets = pd.read_csv(r\"C:\\Users\\socst\\Documents\\Upsets 1st round.csv\",engine='python')"
   ]
  },
  {
   "cell_type": "code",
   "execution_count": 38,
   "metadata": {
    "scrolled": false
   },
   "outputs": [
    {
     "data": {
      "text/plain": [
       "Index(['SeedW', 'SeedL', 'Year', 'Winner', 'Loser', 'Score', 'W_abb', 'L_abb',\n",
       "       'WID', 'LID'],\n",
       "      dtype='object')"
      ]
     },
     "execution_count": 38,
     "metadata": {},
     "output_type": "execute_result"
    }
   ],
   "source": [
    "upsets.columns"
   ]
  },
  {
   "cell_type": "code",
   "execution_count": 64,
   "metadata": {},
   "outputs": [],
   "source": [
    "upsets_df = pd.DataFrame(columns=['abbreviation', 'assist_percentage', 'assists', 'away_losses',\n",
    "       'away_wins', 'block_percentage', 'blocks', 'conference',\n",
    "       'conference_losses', 'conference_wins', 'defensive_rebounds',\n",
    "       'effective_field_goal_percentage', 'field_goal_attempts',\n",
    "       'field_goal_percentage', 'field_goals', 'free_throw_attempt_rate',\n",
    "       'free_throw_attempts', 'free_throw_percentage', 'free_throws',\n",
    "       'free_throws_per_field_goal_attempt', 'games_played', 'home_losses',\n",
    "       'home_wins', 'losses', 'minutes_played', 'name', 'net_rating',\n",
    "       'offensive_rating', 'offensive_rebound_percentage',\n",
    "       'offensive_rebounds', 'opp_assist_percentage', 'opp_assists',\n",
    "       'opp_block_percentage', 'opp_blocks', 'opp_defensive_rebounds',\n",
    "       'opp_effective_field_goal_percentage', 'opp_field_goal_attempts',\n",
    "       'opp_field_goal_percentage', 'opp_field_goals',\n",
    "       'opp_free_throw_attempt_rate', 'opp_free_throw_attempts',\n",
    "       'opp_free_throw_percentage', 'opp_free_throws',\n",
    "       'opp_free_throws_per_field_goal_attempt', 'opp_offensive_rating',\n",
    "       'opp_offensive_rebound_percentage', 'opp_offensive_rebounds',\n",
    "       'opp_personal_fouls', 'opp_points', 'opp_steal_percentage',\n",
    "       'opp_steals', 'opp_three_point_attempt_rate',\n",
    "       'opp_three_point_field_goal_attempts',\n",
    "       'opp_three_point_field_goal_percentage', 'opp_three_point_field_goals',\n",
    "       'opp_total_rebound_percentage', 'opp_total_rebounds',\n",
    "       'opp_true_shooting_percentage', 'opp_turnover_percentage',\n",
    "       'opp_turnovers', 'opp_two_point_field_goal_attempts',\n",
    "       'opp_two_point_field_goal_percentage', 'opp_two_point_field_goals',\n",
    "       'pace', 'personal_fouls', 'points', 'simple_rating_system',\n",
    "       'steal_percentage', 'steals', 'strength_of_schedule',\n",
    "       'three_point_attempt_rate', 'three_point_field_goal_attempts',\n",
    "       'three_point_field_goal_percentage', 'three_point_field_goals',\n",
    "       'total_rebound_percentage', 'total_rebounds',\n",
    "       'true_shooting_percentage', 'turnover_percentage', 'turnovers',\n",
    "       'two_point_field_goal_attempts', 'two_point_field_goal_percentage',\n",
    "       'two_point_field_goals', 'win_percentage', 'wins'])"
   ]
  },
  {
   "cell_type": "code",
   "execution_count": null,
   "metadata": {},
   "outputs": [
    {
     "name": "stdout",
     "output_type": "stream",
     "text": [
      "2018\n"
     ]
    }
   ],
   "source": [
    "for index, row in upsets.iterrows():\n",
    "    print(row['Year'])\n",
    "    teams = Teams(year = row['Year'])\n",
    "    teams_temp = teams.dataframes\n",
    "    filt = teams_temp[teams_temp.abbreviation==row['W_abb']]\n",
    "    upsets_df = pd.concat([upsets_df,filt])\n",
    "print(upsets_df.head())"
   ]
  },
  {
   "cell_type": "code",
   "execution_count": 10,
   "metadata": {},
   "outputs": [],
   "source": [
    "teams = Teams(year = 2018)"
   ]
  },
  {
   "cell_type": "code",
   "execution_count": 11,
   "metadata": {},
   "outputs": [],
   "source": [
    "teams_temp = teams.dataframes\n",
    "filt = teams_temp[teams_temp.abbreviation==\"MARYLAND-BALTIMORE-COUNTY\"]"
   ]
  },
  {
   "cell_type": "code",
   "execution_count": 31,
   "metadata": {},
   "outputs": [],
   "source": [
    "filt = teams_temp[teams_temp.abbreviation==\"MARYLAND-BALTIMORE-COUNTY\"]"
   ]
  },
  {
   "cell_type": "code",
   "execution_count": 47,
   "metadata": {},
   "outputs": [],
   "source": [
    "empty_df = pd.DataFrame(columns=['abbreviation', 'assist_percentage', 'assists', 'away_losses',\n",
    "       'away_wins', 'block_percentage', 'blocks', 'conference',\n",
    "       'conference_losses', 'conference_wins', 'defensive_rebounds',\n",
    "       'effective_field_goal_percentage', 'field_goal_attempts',\n",
    "       'field_goal_percentage', 'field_goals', 'free_throw_attempt_rate',\n",
    "       'free_throw_attempts', 'free_throw_percentage', 'free_throws',\n",
    "       'free_throws_per_field_goal_attempt', 'games_played', 'home_losses',\n",
    "       'home_wins', 'losses', 'minutes_played', 'name', 'net_rating',\n",
    "       'offensive_rating', 'offensive_rebound_percentage',\n",
    "       'offensive_rebounds', 'opp_assist_percentage', 'opp_assists',\n",
    "       'opp_block_percentage', 'opp_blocks', 'opp_defensive_rebounds',\n",
    "       'opp_effective_field_goal_percentage', 'opp_field_goal_attempts',\n",
    "       'opp_field_goal_percentage', 'opp_field_goals',\n",
    "       'opp_free_throw_attempt_rate', 'opp_free_throw_attempts',\n",
    "       'opp_free_throw_percentage', 'opp_free_throws',\n",
    "       'opp_free_throws_per_field_goal_attempt', 'opp_offensive_rating',\n",
    "       'opp_offensive_rebound_percentage', 'opp_offensive_rebounds',\n",
    "       'opp_personal_fouls', 'opp_points', 'opp_steal_percentage',\n",
    "       'opp_steals', 'opp_three_point_attempt_rate',\n",
    "       'opp_three_point_field_goal_attempts',\n",
    "       'opp_three_point_field_goal_percentage', 'opp_three_point_field_goals',\n",
    "       'opp_total_rebound_percentage', 'opp_total_rebounds',\n",
    "       'opp_true_shooting_percentage', 'opp_turnover_percentage',\n",
    "       'opp_turnovers', 'opp_two_point_field_goal_attempts',\n",
    "       'opp_two_point_field_goal_percentage', 'opp_two_point_field_goals',\n",
    "       'pace', 'personal_fouls', 'points', 'simple_rating_system',\n",
    "       'steal_percentage', 'steals', 'strength_of_schedule',\n",
    "       'three_point_attempt_rate', 'three_point_field_goal_attempts',\n",
    "       'three_point_field_goal_percentage', 'three_point_field_goals',\n",
    "       'total_rebound_percentage', 'total_rebounds',\n",
    "       'true_shooting_percentage', 'turnover_percentage', 'turnovers',\n",
    "       'two_point_field_goal_attempts', 'two_point_field_goal_percentage',\n",
    "       'two_point_field_goals', 'win_percentage', 'wins'])"
   ]
  },
  {
   "cell_type": "code",
   "execution_count": 63,
   "metadata": {},
   "outputs": [],
   "source": [
    "upsets_df = pd.concat([upsets_df,filt])"
   ]
  },
  {
   "cell_type": "code",
   "execution_count": null,
   "metadata": {},
   "outputs": [],
   "source": []
  }
 ],
 "metadata": {
  "kernelspec": {
   "display_name": "Python 3",
   "language": "python",
   "name": "python3"
  },
  "language_info": {
   "codemirror_mode": {
    "name": "ipython",
    "version": 3
   },
   "file_extension": ".py",
   "mimetype": "text/x-python",
   "name": "python",
   "nbconvert_exporter": "python",
   "pygments_lexer": "ipython3",
   "version": "3.7.1"
  }
 },
 "nbformat": 4,
 "nbformat_minor": 2
}
